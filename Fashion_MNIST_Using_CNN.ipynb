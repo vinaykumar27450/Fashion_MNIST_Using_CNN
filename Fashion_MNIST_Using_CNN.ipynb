{
  "nbformat": 4,
  "nbformat_minor": 0,
  "metadata": {
    "colab": {
      "name": "Fashion_MNIST_Using_CNN.ipynb",
      "provenance": [],
      "collapsed_sections": [],
      "authorship_tag": "ABX9TyNdCbklTvU9uMPlY0TZrSk3"
    },
    "kernelspec": {
      "name": "python3",
      "display_name": "Python 3"
    },
    "language_info": {
      "name": "python"
    }
  },
  "cells": [
    {
      "cell_type": "code",
      "metadata": {
        "id": "ER31kp1xL9HD"
      },
      "source": [
        "import tensorflow as tf\n",
        "from tensorflow import keras\n",
        "from tensorflow.keras import layers, models\n",
        "from tensorflow.keras.models import load_model\n",
        "import os"
      ],
      "execution_count": 1,
      "outputs": []
    },
    {
      "cell_type": "code",
      "metadata": {
        "colab": {
          "base_uri": "https://localhost:8080/",
          "height": 0
        },
        "id": "ZOcJVJtGMReg",
        "outputId": "4faac102-a003-4c28-adc4-bb09ea34a00e"
      },
      "source": [
        "print(tf.version.VERSION)\n",
        "print(tf.keras.__version__)"
      ],
      "execution_count": 2,
      "outputs": [
        {
          "output_type": "stream",
          "text": [
            "2.5.0\n",
            "2.5.0\n"
          ],
          "name": "stdout"
        }
      ]
    },
    {
      "cell_type": "code",
      "metadata": {
        "id": "dV04m3KNMZOE"
      },
      "source": [
        "import numpy as np\n",
        "import matplotlib.pyplot as plt"
      ],
      "execution_count": 3,
      "outputs": []
    },
    {
      "cell_type": "markdown",
      "metadata": {
        "id": "WNL8h4pZMor4"
      },
      "source": [
        "Code to get the Fashion MNIST dataset using TensorFlow Keras API as below\n"
      ]
    },
    {
      "cell_type": "code",
      "metadata": {
        "id": "_64ZDd24MwPP"
      },
      "source": [
        "# Fashion - MNIST - https://github.com/zalandoresearch/fashion-mnist\n",
        "fashion_mnist = keras.datasets.fashion_mnist\n",
        "\n",
        "(train_images, train_labels), (test_images, test_labels) = fashion_mnist.load_data()"
      ],
      "execution_count": 4,
      "outputs": []
    },
    {
      "cell_type": "code",
      "metadata": {
        "id": "EgFPt4n6M7yw"
      },
      "source": [
        "# Label     Description\n",
        "# 0         T-shirt/top\n",
        "# 1         Trouser\n",
        "# 2         Pullover\n",
        "# 3         Dress\n",
        "# 4         Coat\n",
        "# 5         Sandal\n",
        "# 6         Shirt\n",
        "# 7         Sneaker\n",
        "# 8         Bag\n",
        "# 9         Ankle boot\n",
        "\n",
        "class_names = ['T-shirt/top', 'Trouser', 'Pullover', 'Dress', 'Coat', \n",
        "               'Sandal', 'Shirt', 'Sneaker', 'Bag', 'Ankle boot']"
      ],
      "execution_count": 5,
      "outputs": []
    },
    {
      "cell_type": "code",
      "metadata": {
        "colab": {
          "base_uri": "https://localhost:8080/",
          "height": 0
        },
        "id": "zl5pTa4eNFoz",
        "outputId": "77a4904d-7e54-4a12-fec0-d58ccc073919"
      },
      "source": [
        "train_images.shape"
      ],
      "execution_count": 6,
      "outputs": [
        {
          "output_type": "execute_result",
          "data": {
            "text/plain": [
              "(60000, 28, 28)"
            ]
          },
          "metadata": {
            "tags": []
          },
          "execution_count": 6
        }
      ]
    },
    {
      "cell_type": "markdown",
      "metadata": {
        "id": "IOG_saZrNLbR"
      },
      "source": [
        "Training dataset has 60000 images (rows) each of size (28,28) or 28x28 i.e. 2-D images, and each pixel is a value from 0 to 255 describing the pixel intensity. 0 for white and 255 for black.\n",
        "\n",
        "Since a convolutional layer takes a 2-D image (2-D array) as input, we need not convert these 2-D images to a 1-D arrays\n",
        "\n",
        "If we had to feed these 2-D images to a DNN (hidden layer), which expects a 1-D array as input, we would have to convert these 2-D iamges to 1-D arrays before feeding to hidden layer (DNN)"
      ]
    },
    {
      "cell_type": "code",
      "metadata": {
        "colab": {
          "base_uri": "https://localhost:8080/",
          "height": 0
        },
        "id": "2mTqJ-mVNGlr",
        "outputId": "2a482972-4867-43ad-b773-6e5323aa56a9"
      },
      "source": [
        "train_labels.shape"
      ],
      "execution_count": 7,
      "outputs": [
        {
          "output_type": "execute_result",
          "data": {
            "text/plain": [
              "(60000,)"
            ]
          },
          "metadata": {
            "tags": []
          },
          "execution_count": 7
        }
      ]
    },
    {
      "cell_type": "code",
      "metadata": {
        "colab": {
          "base_uri": "https://localhost:8080/",
          "height": 0
        },
        "id": "TjLoOeGFNe7a",
        "outputId": "c9abb2ed-06cc-412f-97b0-501e170e5c23"
      },
      "source": [
        "test_images.shape"
      ],
      "execution_count": 8,
      "outputs": [
        {
          "output_type": "execute_result",
          "data": {
            "text/plain": [
              "(10000, 28, 28)"
            ]
          },
          "metadata": {
            "tags": []
          },
          "execution_count": 8
        }
      ]
    },
    {
      "cell_type": "code",
      "metadata": {
        "colab": {
          "base_uri": "https://localhost:8080/",
          "height": 0
        },
        "id": "xADJxQCaNgY6",
        "outputId": "f1c4ce1b-b0bc-4920-90c7-7ea7622c593b"
      },
      "source": [
        "test_labels.shape"
      ],
      "execution_count": 9,
      "outputs": [
        {
          "output_type": "execute_result",
          "data": {
            "text/plain": [
              "(10000,)"
            ]
          },
          "metadata": {
            "tags": []
          },
          "execution_count": 9
        }
      ]
    },
    {
      "cell_type": "code",
      "metadata": {
        "colab": {
          "base_uri": "https://localhost:8080/",
          "height": 282
        },
        "id": "Cp4LYXNANhvR",
        "outputId": "3c26e41d-0b1d-4c01-d6d5-457f3f7ed12b"
      },
      "source": [
        "# Take a look at 220th Image\n",
        "plt.figure()\n",
        "plt.imshow(np.squeeze(train_images[220]))"
      ],
      "execution_count": 10,
      "outputs": [
        {
          "output_type": "execute_result",
          "data": {
            "text/plain": [
              "<matplotlib.image.AxesImage at 0x7f309b5827d0>"
            ]
          },
          "metadata": {
            "tags": []
          },
          "execution_count": 10
        },
        {
          "output_type": "display_data",
          "data": {
            "image/png": "[encoded data removed]",
            "text/plain": [
              "<Figure size 432x288 with 1 Axes>"
            ]
          },
          "metadata": {
            "tags": [],
            "needs_background": "light"
          }
        }
      ]
    },
    {
      "cell_type": "code",
      "metadata": {
        "colab": {
          "base_uri": "https://localhost:8080/",
          "height": 0
        },
        "id": "nFtBnNhMNlK5",
        "outputId": "382beae8-74cb-4f75-ab0c-c21f855abb9c"
      },
      "source": [
        "# Label for 220th Image\n",
        "print(class_names[train_labels[220]])"
      ],
      "execution_count": 11,
      "outputs": [
        {
          "output_type": "stream",
          "text": [
            "Bag\n"
          ],
          "name": "stdout"
        }
      ]
    },
    {
      "cell_type": "code",
      "metadata": {
        "colab": {
          "base_uri": "https://localhost:8080/",
          "height": 364
        },
        "id": "P7JSwNxeNoyJ",
        "outputId": "ccdd4a5e-21fe-4f73-942c-5be9e65adbf2"
      },
      "source": [
        "# Some training images\n",
        "plt.figure(figsize=(10,10))\n",
        "for i in range(15):\n",
        "    plt.subplot(5,5,i+1)\n",
        "    plt.xticks([])\n",
        "    plt.yticks([])\n",
        "    plt.imshow(train_images[i], cmap=plt.cm.binary)\n",
        "    plt.xlabel(class_names[train_labels[i]])\n",
        "plt.show()"
      ],
      "execution_count": 12,
      "outputs": [
        {
          "output_type": "display_data",
          "data": {
            "image/png": "[encoded data removed]",
            "text/plain": [
              "<Figure size 720x720 with 15 Axes>"
            ]
          },
          "metadata": {
            "tags": []
          }
        }
      ]
    },
    {
      "cell_type": "code",
      "metadata": {
        "id": "7LSycomnN1kw"
      },
      "source": [
        "train_images = train_images.reshape((60000, 28, 28, 1))\n",
        "test_images = test_images.reshape((10000, 28, 28, 1))"
      ],
      "execution_count": 13,
      "outputs": []
    },
    {
      "cell_type": "code",
      "metadata": {
        "id": "8crd9kCyOW5v"
      },
      "source": [
        "train_images_norm = train_images / 255.0\n",
        "test_images_norm = test_images / 255.0"
      ],
      "execution_count": 14,
      "outputs": []
    },
    {
      "cell_type": "code",
      "metadata": {
        "id": "pl5miDP3PSYM"
      },
      "source": [
        "# First convolutional layer. \n",
        "# Number of neurons = 32\n",
        "# filter(kernel) size = 3x3\n",
        "# Activation function = Relu\n",
        "# input data (images) size (height, width, channels) = (28, 28, 1)\n",
        "# Channels is 'colors' here. Since fashion MNIST images are grayscale, number of colors = 1, hence, channels = 1\n",
        "\n",
        "conv1 = layers.Conv2D(32, (3,3), activation='relu', input_shape=(28,28,1) )"
      ],
      "execution_count": 15,
      "outputs": []
    },
    {
      "cell_type": "code",
      "metadata": {
        "id": "z5Km_tAxPW6t"
      },
      "source": [
        "# Second convolutional layer. \n",
        "# Number of neurons = 64\n",
        "# filter(kernel) size = 3x3\n",
        "# Activation function = Relu\n",
        "# No separate input data for this layer, input to this layer are the 'weights' of the conv1 layer featureMaps\n",
        "# no need to specify explicitly the input to the other convolutional layers (except for the first layer, as above)\n",
        "\n",
        "conv2 = layers.Conv2D(64, (3,3), activation='relu')"
      ],
      "execution_count": 16,
      "outputs": []
    },
    {
      "cell_type": "code",
      "metadata": {
        "id": "3S5cHmwKPckt"
      },
      "source": [
        "# Second convolutional layer. \n",
        "# Number of neurons = 128\n",
        "# filter(kernel) size = 3x3\n",
        "# Activation function = Relu\n",
        "# No separate input data for this layer, input to this layer are the 'weights' of the conv2 layer featureMaps\n",
        "# no need to specify explicitly the input to the other convolutional layers (except for the first layer, as above)\n",
        "\n",
        "conv3 = layers.Conv2D(128, (3,3), activation='relu')"
      ],
      "execution_count": 17,
      "outputs": []
    },
    {
      "cell_type": "code",
      "metadata": {
        "id": "g0n4J2pxPeeG"
      },
      "source": [
        "# Max Pool Layer\n",
        "# Since input to CNN is a 2-D image and ouput from last convolutional layer (featuerMap) is also 2-D array \n",
        "# (except the third dimension i.e. channels), we will use 2D version of Max Pooling function of TensorFlow Keras\n",
        "# to create a Max Pooling Layer, as shown below filter (kernel) size for Pooling Layer = 2x2\n",
        "\n",
        "#Creating first Max. Pooling Layer\n",
        "max_pool_1 = layers.MaxPooling2D((2,2))\n",
        "\n",
        "#Creating second Max. Pooling Layer\n",
        "max_pool_2 = layers.MaxPooling2D((2,2))\n",
        "\n",
        "#Creating third Max. Pooling Layer\n",
        "max_pool_3 = layers.MaxPooling2D((2,2))"
      ],
      "execution_count": 18,
      "outputs": []
    },
    {
      "cell_type": "code",
      "metadata": {
        "id": "rsHXT2AOPg1k"
      },
      "source": [
        "# Fully Connected (FC) Layer i.e. hidden layer expects input in 1-D format (1-D array), hence, we need to convert\n",
        "# 2-D output (2-D array) of last convolutional layer (conv3) to 1-D array i.e. we need to flatten the 2-D array\n",
        "# to 1-D array\n",
        "\n",
        "flat_layer = layers.Flatten()"
      ],
      "execution_count": 19,
      "outputs": []
    },
    {
      "cell_type": "code",
      "metadata": {
        "id": "IO8l3UL-PiyF"
      },
      "source": [
        "# Fully Connected (FC) Layer - Hidden(Dense) Layer\n",
        "# Normally, the number of neurons that we keep in FC layer should be equal to the number of neurons in just\n",
        "# immediate previous convolutional layer\n",
        "\n",
        "fc = layers.Dense(128, activation='relu')"
      ],
      "execution_count": 31,
      "outputs": []
    },
    {
      "cell_type": "code",
      "metadata": {
        "id": "t9UQOggWPlZk"
      },
      "source": [
        "# Output Layer - with 10 neurons (as we have 10 output classes) and using 'softmax' function\n",
        "\n",
        "output = layers.Dense(10, 'softmax')"
      ],
      "execution_count": 21,
      "outputs": []
    },
    {
      "cell_type": "code",
      "metadata": {
        "id": "q2JqkgeDPomc"
      },
      "source": [
        "# TensorFlow Keras uses Keras Sequential API\n",
        "\n",
        "model = models.Sequential()\n",
        "\n",
        "model.add(conv1)\n",
        "model.add(conv2)\n",
        "model.add(conv3)\n",
        "model.add(max_pool_1)\n",
        "model.add(flat_layer)\n",
        "model.add(fc)\n",
        "model.add(output)"
      ],
      "execution_count": 22,
      "outputs": []
    },
    {
      "cell_type": "code",
      "metadata": {
        "colab": {
          "base_uri": "https://localhost:8080/",
          "height": 0
        },
        "id": "4Vdg-gbdPq-k",
        "outputId": "f166f88b-5b5f-4bbe-fd19-13b407194faf"
      },
      "source": [
        "# Let us see what all layers our model has\n",
        "\n",
        "model.summary()"
      ],
      "execution_count": 23,
      "outputs": [
        {
          "output_type": "stream",
          "text": [
            "Model: \"sequential\"\n",
            "_________________________________________________________________\n",
            "Layer (type)                 Output Shape              Param #   \n",
            "=================================================================\n",
            "conv2d (Conv2D)              (None, 26, 26, 32)        320       \n",
            "_________________________________________________________________\n",
            "conv2d_1 (Conv2D)            (None, 24, 24, 64)        18496     \n",
            "_________________________________________________________________\n",
            "conv2d_2 (Conv2D)            (None, 22, 22, 128)       73856     \n",
            "_________________________________________________________________\n",
            "max_pooling2d (MaxPooling2D) (None, 11, 11, 128)       0         \n",
            "_________________________________________________________________\n",
            "flatten (Flatten)            (None, 15488)             0         \n",
            "_________________________________________________________________\n",
            "dense (Dense)                (None, 128)               1982592   \n",
            "_________________________________________________________________\n",
            "dense_1 (Dense)              (None, 10)                1290      \n",
            "=================================================================\n",
            "Total params: 2,076,554\n",
            "Trainable params: 2,076,554\n",
            "Non-trainable params: 0\n",
            "_________________________________________________________________\n"
          ],
          "name": "stdout"
        }
      ]
    },
    {
      "cell_type": "code",
      "metadata": {
        "id": "fHMQggCwPs4E"
      },
      "source": [
        "model.compile(optimizer='adam',\n",
        "              loss='sparse_categorical_crossentropy',\n",
        "              metrics=['accuracy'])"
      ],
      "execution_count": 24,
      "outputs": []
    },
    {
      "cell_type": "code",
      "metadata": {
        "colab": {
          "base_uri": "https://localhost:8080/",
          "height": 0
        },
        "id": "R4vJIp8tPvnk",
        "outputId": "05815d77-1270-4910-89b2-403e32dfcdbb"
      },
      "source": [
        "# we are using the normalized input data\n",
        "\n",
        "# Let us perform 20 epochs with batch_size as 512, and with shuffling = true \n",
        "\n",
        "# shuffle=true will shuffle the indexes of the instances in order to allocate different sets of instances \n",
        "# in validation dataset each time cross-validation runs\n",
        "\n",
        "# validation split=0.1 means a validation dataset of size of 10% is created from the training dataset for cross validation\n",
        "\n",
        "history1 = model.fit(train_images_norm, train_labels, epochs=10, batch_size=512, shuffle=True, validation_split=0.1)"
      ],
      "execution_count": 26,
      "outputs": [
        {
          "output_type": "stream",
          "text": [
            "Epoch 1/10\n",
            "106/106 [==============================] - 380s 4s/step - loss: 0.4628 - accuracy: 0.8342 - val_loss: 0.3682 - val_accuracy: 0.8650\n",
            "Epoch 2/10\n",
            "106/106 [==============================] - 377s 4s/step - loss: 0.3189 - accuracy: 0.8873 - val_loss: 0.2879 - val_accuracy: 0.8972\n",
            "Epoch 3/10\n",
            "106/106 [==============================] - 376s 4s/step - loss: 0.2686 - accuracy: 0.9037 - val_loss: 0.2569 - val_accuracy: 0.9082\n",
            "Epoch 4/10\n",
            "106/106 [==============================] - 376s 4s/step - loss: 0.2274 - accuracy: 0.9181 - val_loss: 0.2405 - val_accuracy: 0.9127\n",
            "Epoch 5/10\n",
            "106/106 [==============================] - 376s 4s/step - loss: 0.2077 - accuracy: 0.9237 - val_loss: 0.2386 - val_accuracy: 0.9182\n",
            "Epoch 6/10\n",
            "106/106 [==============================] - 377s 4s/step - loss: 0.1750 - accuracy: 0.9370 - val_loss: 0.2259 - val_accuracy: 0.9202\n",
            "Epoch 7/10\n",
            "106/106 [==============================] - 379s 4s/step - loss: 0.1563 - accuracy: 0.9432 - val_loss: 0.2360 - val_accuracy: 0.9182\n",
            "Epoch 8/10\n",
            "106/106 [==============================] - 392s 4s/step - loss: 0.1386 - accuracy: 0.9496 - val_loss: 0.2132 - val_accuracy: 0.9245\n",
            "Epoch 9/10\n",
            "106/106 [==============================] - 394s 4s/step - loss: 0.1105 - accuracy: 0.9600 - val_loss: 0.2390 - val_accuracy: 0.9247\n",
            "Epoch 10/10\n",
            "106/106 [==============================] - 396s 4s/step - loss: 0.0940 - accuracy: 0.9659 - val_loss: 0.2388 - val_accuracy: 0.9280\n"
          ],
          "name": "stdout"
        }
      ]
    },
    {
      "cell_type": "code",
      "metadata": {
        "id": "xQXAfwHqPxkj",
        "colab": {
          "base_uri": "https://localhost:8080/",
          "height": 0
        },
        "outputId": "4c11ed95-0aeb-43bc-c633-c56c94025472"
      },
      "source": [
        "# we are using the normalized input data\n",
        "test_loss, test_accuracy = model.evaluate(test_images_norm, test_labels)"
      ],
      "execution_count": 27,
      "outputs": [
        {
          "output_type": "stream",
          "text": [
            "313/313 [==============================] - 24s 76ms/step - loss: 0.2506 - accuracy: 0.9228\n"
          ],
          "name": "stdout"
        }
      ]
    },
    {
      "cell_type": "code",
      "metadata": {
        "id": "Ip5ab0UtP1Z7",
        "colab": {
          "base_uri": "https://localhost:8080/",
          "height": 0
        },
        "outputId": "61a6f769-5d14-4d4e-f779-883a9c99b3e8"
      },
      "source": [
        "print(test_accuracy)"
      ],
      "execution_count": 28,
      "outputs": [
        {
          "output_type": "stream",
          "text": [
            "0.9228000044822693\n"
          ],
          "name": "stdout"
        }
      ]
    },
    {
      "cell_type": "markdown",
      "metadata": {
        "id": "Ifnpa6b9WdCE"
      },
      "source": [
        "We observe from above that the model is overfitting (Training Accuracy - 99% ; Test Accuracy - 92%)\n",
        "\n",
        "Deep learning models generally tend to be perform well on the Training data, but not on the Test data (Overfitting).\n",
        "\n",
        "The simplest way to prevent overfitting is to reduce the size of the model, i.e. the number of learnable parameters (number of layers and the number of neurons per layer). Second option to remove overfitting is to use Regularization techniques like - L1, L2, Dropout.\n",
        "\n",
        "**Dropout is the most effective of all and most commonly used regularization technique .**\n",
        "\n",
        "**NOTE:If there is a Pooling layer after a convolutional layer, the dropout layer is applied after the pooling layer** (not just after the convolutional layer, i.e. between the convolutional layer and the pooling layer)"
      ]
    },
    {
      "cell_type": "code",
      "metadata": {
        "id": "JWi2hTAMWd7N"
      },
      "source": [
        "# Creating first dropout layer (for the first Conv. layer 'conv1')\n",
        "drop_1 = keras.layers.Dropout(0.5)\n",
        "# Creating second dropout layer (for the second Conv. layer 'conv2')\n",
        "drop_2 = keras.layers.Dropout(0.5)\n",
        "# Creating third dropout layer (for the third Conv. layer 'conv3')\n",
        "drop_3 = keras.layers.Dropout(0.5)"
      ],
      "execution_count": 29,
      "outputs": []
    },
    {
      "cell_type": "code",
      "metadata": {
        "id": "eacLDYiaWy0A"
      },
      "source": [
        "# Let us create a new neural network by applying these above created Dropout Layers to the respecive convolutional Layers \n",
        "\n",
        "# Please note that the Dropout layer for all the convolutional layers will be applied after the pooling layer (max. pool layer)\n",
        "\n",
        "new_model = models.Sequential()\n",
        "\n",
        "new_model.add(conv1)\n",
        "# No Pooling Layer and Dropout layer for first Convolutional layer 'conv1'\n",
        "new_model.add(conv2)\n",
        "new_model.add(max_pool_2)\n",
        "new_model.add(drop_2)\n",
        "new_model.add(conv3)\n",
        "new_model.add(max_pool_3)\n",
        "new_model.add(drop_3)\n",
        "new_model.add(flat_layer)\n",
        "new_model.add(fc)\n",
        "new_model.add(output)"
      ],
      "execution_count": 32,
      "outputs": []
    },
    {
      "cell_type": "code",
      "metadata": {
        "id": "WMt5feHOW0jT",
        "colab": {
          "base_uri": "https://localhost:8080/",
          "height": 0
        },
        "outputId": "af28f75b-c9cc-4f1f-f208-ca80efae4096"
      },
      "source": [
        "new_model.summary()"
      ],
      "execution_count": 33,
      "outputs": [
        {
          "output_type": "stream",
          "text": [
            "Model: \"sequential_2\"\n",
            "_________________________________________________________________\n",
            "Layer (type)                 Output Shape              Param #   \n",
            "=================================================================\n",
            "conv2d (Conv2D)              (None, 26, 26, 32)        320       \n",
            "_________________________________________________________________\n",
            "conv2d_1 (Conv2D)            (None, 24, 24, 64)        18496     \n",
            "_________________________________________________________________\n",
            "max_pooling2d_1 (MaxPooling2 (None, 12, 12, 64)        0         \n",
            "_________________________________________________________________\n",
            "dropout_1 (Dropout)          (None, 12, 12, 64)        0         \n",
            "_________________________________________________________________\n",
            "conv2d_2 (Conv2D)            multiple                  73856     \n",
            "_________________________________________________________________\n",
            "max_pooling2d_2 (MaxPooling2 (None, 5, 5, 128)         0         \n",
            "_________________________________________________________________\n",
            "dropout_2 (Dropout)          (None, 5, 5, 128)         0         \n",
            "_________________________________________________________________\n",
            "flatten (Flatten)            multiple                  0         \n",
            "_________________________________________________________________\n",
            "dense_2 (Dense)              (None, 128)               409728    \n",
            "_________________________________________________________________\n",
            "dense_1 (Dense)              (None, 10)                1290      \n",
            "=================================================================\n",
            "Total params: 503,690\n",
            "Trainable params: 503,690\n",
            "Non-trainable params: 0\n",
            "_________________________________________________________________\n"
          ],
          "name": "stdout"
        }
      ]
    },
    {
      "cell_type": "code",
      "metadata": {
        "id": "QNso42_wW17D"
      },
      "source": [
        "new_model.compile(optimizer='adam',\n",
        "              loss='sparse_categorical_crossentropy',\n",
        "              metrics=['accuracy'])\n"
      ],
      "execution_count": 34,
      "outputs": []
    },
    {
      "cell_type": "code",
      "metadata": {
        "id": "_RbKEKHaW32z",
        "colab": {
          "base_uri": "https://localhost:8080/",
          "height": 0
        },
        "outputId": "a2d15070-5e00-451b-dac9-d47e1988c425"
      },
      "source": [
        "# Let us perform 30 epochs with batch_size as 512, and with shuffling = true \n",
        "\n",
        "# shuffle=true will shuffle the indexes of the instances in order to allocate different sets of instances \n",
        "# in validation dataset each time cross-validation runs\n",
        "\n",
        "# validation split=0.1 means a validation dataset of size of 10% is created from the training dataset for cross validation\n",
        "\n",
        "history2 = new_model.fit(train_images_norm, train_labels, epochs=10, batch_size=512, shuffle=True, validation_split=0.1)"
      ],
      "execution_count": 35,
      "outputs": [
        {
          "output_type": "stream",
          "text": [
            "Epoch 1/10\n",
            "106/106 [==============================] - 193s 2s/step - loss: 0.5204 - accuracy: 0.8172 - val_loss: 0.3275 - val_accuracy: 0.8873\n",
            "Epoch 2/10\n",
            "106/106 [==============================] - 194s 2s/step - loss: 0.3432 - accuracy: 0.8746 - val_loss: 0.2958 - val_accuracy: 0.8983\n",
            "Epoch 3/10\n",
            "106/106 [==============================] - 192s 2s/step - loss: 0.3030 - accuracy: 0.8889 - val_loss: 0.2607 - val_accuracy: 0.9047\n",
            "Epoch 4/10\n",
            "106/106 [==============================] - 188s 2s/step - loss: 0.2817 - accuracy: 0.8962 - val_loss: 0.2562 - val_accuracy: 0.9092\n",
            "Epoch 5/10\n",
            "106/106 [==============================] - 189s 2s/step - loss: 0.2648 - accuracy: 0.9032 - val_loss: 0.2385 - val_accuracy: 0.9118\n",
            "Epoch 6/10\n",
            "106/106 [==============================] - 193s 2s/step - loss: 0.2515 - accuracy: 0.9078 - val_loss: 0.2331 - val_accuracy: 0.9195\n",
            "Epoch 7/10\n",
            "106/106 [==============================] - 193s 2s/step - loss: 0.2447 - accuracy: 0.9098 - val_loss: 0.2270 - val_accuracy: 0.9177\n",
            "Epoch 8/10\n",
            "106/106 [==============================] - 195s 2s/step - loss: 0.2328 - accuracy: 0.9128 - val_loss: 0.2249 - val_accuracy: 0.9190\n",
            "Epoch 9/10\n",
            "106/106 [==============================] - 191s 2s/step - loss: 0.2251 - accuracy: 0.9158 - val_loss: 0.2228 - val_accuracy: 0.9217\n",
            "Epoch 10/10\n",
            "106/106 [==============================] - 188s 2s/step - loss: 0.2153 - accuracy: 0.9202 - val_loss: 0.2140 - val_accuracy: 0.9190\n"
          ],
          "name": "stdout"
        }
      ]
    },
    {
      "cell_type": "code",
      "metadata": {
        "id": "Lxm2dTZIW6NL",
        "colab": {
          "base_uri": "https://localhost:8080/",
          "height": 0
        },
        "outputId": "b87650a3-03ef-46bf-88f5-5a0510ebe53c"
      },
      "source": [
        "test_loss, test_accuracy = new_model.evaluate(test_images_norm, test_labels)"
      ],
      "execution_count": 36,
      "outputs": [
        {
          "output_type": "stream",
          "text": [
            "313/313 [==============================] - 10s 31ms/step - loss: 0.2226 - accuracy: 0.9180\n"
          ],
          "name": "stdout"
        }
      ]
    },
    {
      "cell_type": "code",
      "metadata": {
        "id": "NcYm9cN3W76L",
        "colab": {
          "base_uri": "https://localhost:8080/",
          "height": 0
        },
        "outputId": "95d398d6-ef17-4c19-e6ab-e7696371b38f"
      },
      "source": [
        "print(test_accuracy)"
      ],
      "execution_count": 37,
      "outputs": [
        {
          "output_type": "stream",
          "text": [
            "0.9179999828338623\n"
          ],
          "name": "stdout"
        }
      ]
    },
    {
      "cell_type": "code",
      "metadata": {
        "id": "BW9j8IXHW9ez",
        "colab": {
          "base_uri": "https://localhost:8080/",
          "height": 0
        },
        "outputId": "4e74f81c-dced-4524-a2bb-9d5c5fe60396"
      },
      "source": [
        "print(test_loss)"
      ],
      "execution_count": 38,
      "outputs": [
        {
          "output_type": "stream",
          "text": [
            "0.22260746359825134\n"
          ],
          "name": "stdout"
        }
      ]
    },
    {
      "cell_type": "code",
      "metadata": {
        "id": "o5L1VEw-W_Kz",
        "colab": {
          "base_uri": "https://localhost:8080/",
          "height": 0
        },
        "outputId": "03710844-fdd3-45f4-fc0f-6344352245b1"
      },
      "source": [
        "print(history2.history.keys())"
      ],
      "execution_count": 39,
      "outputs": [
        {
          "output_type": "stream",
          "text": [
            "dict_keys(['loss', 'accuracy', 'val_loss', 'val_accuracy'])\n"
          ],
          "name": "stdout"
        }
      ]
    },
    {
      "cell_type": "code",
      "metadata": {
        "id": "PMNZqh0HXAfz",
        "colab": {
          "base_uri": "https://localhost:8080/",
          "height": 295
        },
        "outputId": "c0106bb4-a3a8-456a-a4da-dc604a4005d2"
      },
      "source": [
        "plt.plot(history2.history['accuracy'])\n",
        "plt.plot(history2.history['val_accuracy'])\n",
        "plt.title(\"Accuracy\")\n",
        "plt.ylabel(\"accuracy\")\n",
        "plt.xlabel(\"epoch\")\n",
        "plt.legend(['train', 'test'], loc='upper left')\n",
        "plt.show()"
      ],
      "execution_count": 40,
      "outputs": [
        {
          "output_type": "display_data",
          "data": {
            "image/png": "[encoded data removed]",
            "text/plain": [
              "<Figure size 432x288 with 1 Axes>"
            ]
          },
          "metadata": {
            "tags": [],
            "needs_background": "light"
          }
        }
      ]
    },
    {
      "cell_type": "code",
      "metadata": {
        "id": "HQDi6H39XCWL",
        "colab": {
          "base_uri": "https://localhost:8080/",
          "height": 295
        },
        "outputId": "70e5c29c-f40c-47e9-e4e5-f6a9b39b388b"
      },
      "source": [
        "plt.plot(history2.history['loss'])\n",
        "plt.plot(history2.history['val_loss'])\n",
        "plt.title(\"Loss\")\n",
        "plt.ylabel(\"loss\")\n",
        "plt.xlabel(\"epoch\")\n",
        "plt.legend(['train', 'test'], loc='upper left')\n",
        "plt.show()"
      ],
      "execution_count": 41,
      "outputs": [
        {
          "output_type": "display_data",
          "data": {
            "image/png": "[encoded data removed]",
            "text/plain": [
              "<Figure size 432x288 with 1 Axes>"
            ]
          },
          "metadata": {
            "tags": [],
            "needs_background": "light"
          }
        }
      ]
    },
    {
      "cell_type": "code",
      "metadata": {
        "id": "JlSwJ030XGLz"
      },
      "source": [
        "# Making predictions on Test dataset\n",
        "predicted_test_labels = new_model.predict(test_images_norm)"
      ],
      "execution_count": 42,
      "outputs": []
    },
    {
      "cell_type": "code",
      "metadata": {
        "id": "4ynmdgqiXIQy",
        "colab": {
          "base_uri": "https://localhost:8080/",
          "height": 0
        },
        "outputId": "00a85421-850a-4290-ad6b-5b9edff8d0dd"
      },
      "source": [
        "predicted_test_labels.shape"
      ],
      "execution_count": 43,
      "outputs": [
        {
          "output_type": "execute_result",
          "data": {
            "text/plain": [
              "(10000, 10)"
            ]
          },
          "metadata": {
            "tags": []
          },
          "execution_count": 43
        }
      ]
    },
    {
      "cell_type": "code",
      "metadata": {
        "id": "XM9J9SkeXKnb",
        "colab": {
          "base_uri": "https://localhost:8080/",
          "height": 0
        },
        "outputId": "ef7df252-649f-47da-bfdb-90f3ccd19d51"
      },
      "source": [
        "imageNo = 1400\n",
        "predicted_test_labels[imageNo]"
      ],
      "execution_count": 66,
      "outputs": [
        {
          "output_type": "execute_result",
          "data": {
            "text/plain": [
              "array([1.2696240e-03, 9.3921641e-05, 1.0799433e-02, 4.8420049e-02,\n",
              "       8.6603099e-01, 5.3393987e-06, 7.1826778e-02, 1.3353692e-04,\n",
              "       1.4031789e-03, 1.7168626e-05], dtype=float32)"
            ]
          },
          "metadata": {
            "tags": []
          },
          "execution_count": 66
        }
      ]
    },
    {
      "cell_type": "code",
      "metadata": {
        "id": "HBZA0m2_XPOj",
        "colab": {
          "base_uri": "https://localhost:8080/",
          "height": 0
        },
        "outputId": "ed52ec44-8988-4278-d6cc-b02585ea834e"
      },
      "source": [
        "print(\"Actual = \",class_names[test_labels[imageNo]])"
      ],
      "execution_count": 67,
      "outputs": [
        {
          "output_type": "stream",
          "text": [
            "Actual =  Coat\n"
          ],
          "name": "stdout"
        }
      ]
    },
    {
      "cell_type": "code",
      "metadata": {
        "id": "7s81i4wjXLtS",
        "colab": {
          "base_uri": "https://localhost:8080/",
          "height": 0
        },
        "outputId": "44393ad5-85bc-4a80-cc6f-f1413331f1d3"
      },
      "source": [
        "predicted_test_labels_index = np.argmax(predicted_test_labels[imageNo])\n",
        "print(\"Predicted = \",class_names[predicted_test_labels_index])"
      ],
      "execution_count": 68,
      "outputs": [
        {
          "output_type": "stream",
          "text": [
            "Predicted =  Coat\n"
          ],
          "name": "stdout"
        }
      ]
    },
    {
      "cell_type": "code",
      "metadata": {
        "id": "XQ01Ae_0XQq6",
        "colab": {
          "base_uri": "https://localhost:8080/",
          "height": 282
        },
        "outputId": "52a3940c-d620-48f8-c2e5-0192a08bc0ed"
      },
      "source": [
        "plt.figure()\n",
        "plt.imshow(np.squeeze(test_images[imageNo]))"
      ],
      "execution_count": 69,
      "outputs": [
        {
          "output_type": "execute_result",
          "data": {
            "text/plain": [
              "<matplotlib.image.AxesImage at 0x7f3092b90b90>"
            ]
          },
          "metadata": {
            "tags": []
          },
          "execution_count": 69
        },
        {
          "output_type": "display_data",
          "data": {
            "image/png": "[encoded data removed]",
            "text/plain": [
              "<Figure size 432x288 with 1 Axes>"
            ]
          },
          "metadata": {
            "tags": [],
            "needs_background": "light"
          }
        }
      ]
    },
    {
      "cell_type": "code",
      "metadata": {
        "id": "eCvO-PN8Z4kx"
      },
      "source": [
        ""
      ],
      "execution_count": null,
      "outputs": []
    }
  ]
}